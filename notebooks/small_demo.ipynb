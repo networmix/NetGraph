{
 "cells": [
  {
   "cell_type": "code",
   "execution_count": 1,
   "metadata": {},
   "outputs": [],
   "source": [
    "from ngraph.scenario import Scenario\n",
    "from ngraph.traffic_demand import TrafficDemand\n",
    "from ngraph.traffic_manager import TrafficManager\n",
    "from ngraph.lib.flow_policy import FlowPolicyConfig, FlowPolicy, FlowPlacement\n",
    "from ngraph.lib.algorithms.base import PathAlg, EdgeSelect\n",
    "from ngraph.failure_manager import FailureManager\n",
    "from ngraph.failure_policy import FailurePolicy, FailureRule, FailureCondition"
   ]
  },
  {
   "cell_type": "code",
   "execution_count": 2,
   "metadata": {},
   "outputs": [],
   "source": [
    "scenario_yaml = \"\"\"\n",
    "blueprints:\n",
    "  brick_2tier:\n",
    "    groups:\n",
    "      t1:\n",
    "        node_count: 8\n",
    "        name_template: t1-{node_num}\n",
    "      t2:\n",
    "        node_count: 8\n",
    "        name_template: t2-{node_num}\n",
    "\n",
    "    adjacency:\n",
    "      - source: /t1\n",
    "        target: /t2\n",
    "        pattern: mesh\n",
    "        link_params:\n",
    "          capacity: 2\n",
    "          cost: 1\n",
    "\n",
    "  3tier_clos:\n",
    "    groups:\n",
    "      b1:\n",
    "        use_blueprint: brick_2tier\n",
    "      b2:\n",
    "        use_blueprint: brick_2tier\n",
    "      spine:\n",
    "        node_count: 64\n",
    "        name_template: t3-{node_num}\n",
    "\n",
    "    adjacency:\n",
    "      - source: b1/t2\n",
    "        target: spine\n",
    "        pattern: one_to_one\n",
    "        link_params:\n",
    "          capacity: 2\n",
    "          cost: 1\n",
    "      - source: b2/t2\n",
    "        target: spine\n",
    "        pattern: one_to_one\n",
    "        link_params:\n",
    "          capacity: 2\n",
    "          cost: 1\n",
    "\n",
    "network:\n",
    "  name: \"3tier_clos_network\"\n",
    "  version: 1.0\n",
    "\n",
    "  groups:\n",
    "    my_clos1:\n",
    "      use_blueprint: 3tier_clos\n",
    "\n",
    "    my_clos2:\n",
    "      use_blueprint: 3tier_clos\n",
    "\n",
    "  adjacency:\n",
    "    - source: my_clos1/spine\n",
    "      target: my_clos2/spine\n",
    "      pattern: one_to_one\n",
    "      link_params:\n",
    "        capacity: 1\n",
    "        cost: 1\n",
    "    - source: my_clos1/spine\n",
    "      target: my_clos2/spine\n",
    "      pattern: one_to_one\n",
    "      link_params:\n",
    "        capacity: 1\n",
    "        cost: 1\n",
    "    - source: my_clos1/spine\n",
    "      target: my_clos2/spine\n",
    "      pattern: one_to_one\n",
    "      link_params:\n",
    "        capacity: 1\n",
    "        cost: 1\n",
    "    - source: my_clos1/spine\n",
    "      target: my_clos2/spine\n",
    "      pattern: one_to_one\n",
    "      link_params:\n",
    "        capacity: 1\n",
    "        cost: 1\n",
    "\"\"\"\n",
    "scenario = Scenario.from_yaml(scenario_yaml)\n",
    "network = scenario.network"
   ]
  },
  {
   "cell_type": "code",
   "execution_count": 3,
   "metadata": {},
   "outputs": [
    {
     "data": {
      "text/plain": [
       "{('b1|b2', 'b1|b2'): 256.0}"
      ]
     },
     "execution_count": 3,
     "metadata": {},
     "output_type": "execute_result"
    }
   ],
   "source": [
    "network.max_flow(\n",
    "    source_path=r\"my_clos1.*(b[0-9]*)/t1\",\n",
    "    sink_path=r\"my_clos2.*(b[0-9]*)/t1\",\n",
    "    mode=\"combine\",\n",
    "    shortest_path=True,\n",
    ")"
   ]
  },
  {
   "cell_type": "code",
   "execution_count": 4,
   "metadata": {},
   "outputs": [
    {
     "data": {
      "text/plain": [
       "256.0"
      ]
     },
     "execution_count": 4,
     "metadata": {},
     "output_type": "execute_result"
    }
   ],
   "source": [
    "d = TrafficDemand(\n",
    "    source_path=r\"my_clos1.*(b[0-9]*)/t1\",\n",
    "    sink_path=r\"my_clos2.*(b[0-9])/t1\",\n",
    "    demand=256,\n",
    "    mode=\"full_mesh\",\n",
    "    flow_policy_config=FlowPolicyConfig.SHORTEST_PATHS_ECMP,\n",
    ")\n",
    "demands = [d]\n",
    "tm = TrafficManager(\n",
    "    network=network,\n",
    "    traffic_demands=demands,\n",
    ")\n",
    "tm.build_graph()\n",
    "tm.expand_demands()\n",
    "tm.place_all_demands(placement_rounds=50)"
   ]
  },
  {
   "cell_type": "code",
   "execution_count": 5,
   "metadata": {},
   "outputs": [
    {
     "name": "stdout",
     "output_type": "stream",
     "text": [
      "Overall Statistics:\n",
      "  mean: 212.69\n",
      "  stdev: 25.50\n",
      "  min: 178.94\n",
      "  max: 253.71\n"
     ]
    }
   ],
   "source": [
    "my_rules = [\n",
    "    FailureRule(\n",
    "        conditions=[FailureCondition(attr=\"type\", operator=\"==\", value=\"link\")],\n",
    "        logic=\"and\",\n",
    "        rule_type=\"choice\",\n",
    "        count=2,\n",
    "    ),\n",
    "]\n",
    "fpolicy = FailurePolicy(rules=my_rules)\n",
    "\n",
    "# Run Monte Carlo\n",
    "fmgr = FailureManager(network, demands, failure_policy=fpolicy)\n",
    "results = fmgr.run_monte_carlo_failures(iterations=30, parallelism=10)\n",
    "overall = results[\"overall_stats\"]\n",
    "print(\"Overall Statistics:\")\n",
    "for k, v in overall.items():\n",
    "    print(f\"  {k}: {v:.2f}\")"
   ]
  },
  {
   "cell_type": "code",
   "execution_count": 6,
   "metadata": {},
   "outputs": [
    {
     "name": "stderr",
     "output_type": "stream",
     "text": [
      "/var/folders/xh/83kdwyfd0fv66b04mchbfzcc0000gn/T/ipykernel_31753/4192461833.py:60: UserWarning: No artists with labels found to put in legend.  Note that artists whose label start with an underscore are ignored when legend() is called with no argument.\n",
      "  plt.legend(title=\"Priority\")\n"
     ]
    },
    {
     "data": {
      "image/png": "[encoded data removed]",
      "text/plain": [
       "<Figure size 700x500 with 1 Axes>"
      ]
     },
     "metadata": {},
     "output_type": "display_data"
    }
   ],
   "source": [
    "import pandas as pd\n",
    "import seaborn as sns\n",
    "import matplotlib.pyplot as plt\n",
    "from collections import defaultdict\n",
    "\n",
    "\n",
    "def plot_priority_cdf(results, complementary: bool = True):\n",
    "    \"\"\"\n",
    "    Plots an empirical (complementary) CDF of placed volume for each priority.\n",
    "\n",
    "    Args:\n",
    "        results: The dictionary returned by run_monte_carlo_failures, containing:\n",
    "            {\n",
    "                \"overall_stats\": {...},\n",
    "                \"by_src_dst\": {\n",
    "                    (src, dst, priority): [\n",
    "                        {\"iteration\": int, \"total_volume\": float, \"placed_volume\": float, ...},\n",
    "                        ...\n",
    "                    ],\n",
    "                    ...\n",
    "                }\n",
    "            }\n",
    "        complementary: If True, plots a complementary CDF (P(X >= x)).\n",
    "                       If False, plots a standard CDF (P(X <= x)).\n",
    "    \"\"\"\n",
    "    by_src_dst = results[\"by_src_dst\"]  # {(src, dst, priority): [...]}\n",
    "\n",
    "    # 1) Aggregate total placed volume for each iteration & priority\n",
    "    #    (similar logic as before, but we'll directly store iteration-level sums).\n",
    "    volume_per_iter_priority = defaultdict(float)\n",
    "    for (src, dst, priority), data_list in by_src_dst.items():\n",
    "        for entry in data_list:\n",
    "            it = entry[\"iteration\"]\n",
    "            volume_per_iter_priority[(it, priority)] += entry[\"placed_volume\"]\n",
    "\n",
    "    # 2) Convert to a tidy DataFrame with columns: [iteration, priority, placed_volume]\n",
    "    rows = []\n",
    "    for (it, prio), vol_sum in volume_per_iter_priority.items():\n",
    "        rows.append({\"iteration\": it, \"priority\": prio, \"placed_volume\": vol_sum})\n",
    "\n",
    "    plot_df = pd.DataFrame(rows)\n",
    "\n",
    "    # 3) Use seaborn's ECDF plot (which can do either standard or complementary CDF)\n",
    "    plt.figure(figsize=(7, 5))\n",
    "    sns.ecdfplot(\n",
    "        data=plot_df,\n",
    "        x=\"placed_volume\",\n",
    "        hue=\"priority\",\n",
    "        complementary=complementary,  # True -> CCDF, False -> normal CDF\n",
    "    )\n",
    "    if complementary:\n",
    "        plt.ylabel(\"P(X ≥ x)\")\n",
    "        plt.title(\"Per-Priority Complementary CDF of Placed Volume\")\n",
    "    else:\n",
    "        plt.ylabel(\"P(X ≤ x)\")\n",
    "        plt.title(\"Per-Priority CDF of Placed Volume\")\n",
    "\n",
    "    plt.xlabel(\"Total Placed Volume (per iteration)\")\n",
    "    plt.grid(True)\n",
    "    plt.legend(title=\"Priority\")\n",
    "    plt.show()\n",
    "\n",
    "\n",
    "plot_priority_cdf(results, complementary=True)"
   ]
  },
  {
   "cell_type": "code",
   "execution_count": null,
   "metadata": {},
   "outputs": [],
   "source": []
  }
 ],
 "metadata": {
  "kernelspec": {
   "display_name": "ngraph-venv",
   "language": "python",
   "name": "python3"
  },
  "language_info": {
   "codemirror_mode": {
    "name": "ipython",
    "version": 3
   },
   "file_extension": ".py",
   "mimetype": "text/x-python",
   "name": "python",
   "nbconvert_exporter": "python",
   "pygments_lexer": "ipython3",
   "version": "3.13.1"
  }
 },
 "nbformat": 4,
 "nbformat_minor": 2
}
