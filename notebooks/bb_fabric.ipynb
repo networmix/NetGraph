{
 "cells": [
  {
   "cell_type": "code",
   "execution_count": 11,
   "id": "a92a8d34",
   "metadata": {},
   "outputs": [],
   "source": [
    "from ngraph.explorer import NetworkExplorer\n",
    "from ngraph.scenario import Scenario"
   ]
  },
  {
   "cell_type": "code",
   "execution_count": 12,
   "id": "ad94e880",
   "metadata": {},
   "outputs": [
    {
     "name": "stdout",
     "output_type": "stream",
     "text": [
      "- root | Nodes=20, Links=128, Cost=0.0, Power=0.0\n",
      "  - bb_fabric | Nodes=20, Links=128, Cost=0.0, Power=0.0\n",
      "    - t2 | Nodes=4, Links=128, Cost=0.0, Power=0.0\n",
      "    - t1 | Nodes=16, Links=128, Cost=0.0, Power=0.0\n"
     ]
    }
   ],
   "source": [
    "scenario_yaml = \"\"\"\n",
    "blueprints:\n",
    "  bb_fabric:\n",
    "    groups:\n",
    "      t2:\n",
    "        node_count: 4                 # always on\n",
    "        name_template: t2-{node_num}\n",
    "\n",
    "      t1:\n",
    "        node_count: 16                # will be enabled in chunks\n",
    "        name_template: t1-{node_num}\n",
    "\n",
    "    adjacency:                         # full mesh, 2 parallel links\n",
    "      - source: /t1\n",
    "        target: /t2\n",
    "        pattern: mesh\n",
    "        link_count: 2\n",
    "        link_params:\n",
    "          capacity: 200\n",
    "          cost: 1\n",
    "\n",
    "network:\n",
    "  name: \"BB_Fabric\"\n",
    "  version: 1.0\n",
    "\n",
    "  groups:\n",
    "    bb_fabric:\n",
    "      use_blueprint: bb_fabric\n",
    "\n",
    "  # disable every T1 at load-time; workflow will enable them in batches\n",
    "  node_overrides:\n",
    "    - path: ^bb_fabric/t1/.+\n",
    "      disabled: true\n",
    "\n",
    "workflow:\n",
    "  - step_type: EnableNodes\n",
    "    path: ^bb_fabric/t1/.+\n",
    "    count: 4                            # enable first group of T1s\n",
    "    order: name\n",
    "\n",
    "  - step_type: DistributeExternalConnectivity\n",
    "    remote_prefix: remote/\n",
    "    remote_locations:\n",
    "      - LOC1\n",
    "    attachment_path: ^bb_fabric/t1/.+    # enabled T1 nodes\n",
    "    stripe_width: 2\n",
    "    capacity: 800\n",
    "    cost: 1\n",
    "\n",
    "  - step_type: DistributeExternalConnectivity\n",
    "    remote_prefix: remote/\n",
    "    remote_locations:\n",
    "      - LOC1\n",
    "    attachment_path: ^bb_fabric/t1/.+    # enabled T1 nodes\n",
    "    stripe_width: 2\n",
    "    capacity: 800\n",
    "    cost: 1\n",
    "\"\"\"\n",
    "scenario = Scenario.from_yaml(scenario_yaml)\n",
    "network = scenario.network\n",
    "explorer = NetworkExplorer.explore_network(network, scenario.components_library)\n",
    "explorer.print_tree(include_disabled=False, detailed=False, skip_leaves=True)"
   ]
  },
  {
   "cell_type": "code",
   "execution_count": 13,
   "id": "6c491ddc",
   "metadata": {},
   "outputs": [
    {
     "data": {
      "text/plain": [
       "Node(name='bb_fabric/t1/t1-4', disabled=True, risk_groups=set(), attrs={'type': 'node'})"
      ]
     },
     "execution_count": 13,
     "metadata": {},
     "output_type": "execute_result"
    }
   ],
   "source": [
    "network.nodes[\"bb_fabric/t1/t1-4\"]"
   ]
  },
  {
   "cell_type": "code",
   "execution_count": 14,
   "id": "df3eb867",
   "metadata": {},
   "outputs": [],
   "source": [
    "scenario.run()"
   ]
  },
  {
   "cell_type": "code",
   "execution_count": 15,
   "id": "35a81770",
   "metadata": {},
   "outputs": [
    {
     "name": "stdout",
     "output_type": "stream",
     "text": [
      "- root | Nodes=21, Links=132, Cost=0.0, Power=0.0\n",
      "  - bb_fabric | Nodes=20, Links=132, Cost=0.0, Power=0.0\n",
      "    - t2 | Nodes=4, Links=128, Cost=0.0, Power=0.0\n",
      "    - t1 | Nodes=16, Links=132, Cost=0.0, Power=0.0\n",
      "  - remote | Nodes=1, Links=4, Cost=0.0, Power=0.0\n"
     ]
    }
   ],
   "source": [
    "explorer = NetworkExplorer.explore_network(network, scenario.components_library)\n",
    "explorer.print_tree(skip_leaves=True, detailed=False)"
   ]
  },
  {
   "cell_type": "code",
   "execution_count": null,
   "id": "aced8d6d",
   "metadata": {},
   "outputs": [],
   "source": []
  }
 ],
 "metadata": {
  "kernelspec": {
   "display_name": "ngraph-venv",
   "language": "python",
   "name": "python3"
  },
  "language_info": {
   "codemirror_mode": {
    "name": "ipython",
    "version": 3
   },
   "file_extension": ".py",
   "mimetype": "text/x-python",
   "name": "python",
   "nbconvert_exporter": "python",
   "pygments_lexer": "ipython3",
   "version": "3.13.3"
  }
 },
 "nbformat": 4,
 "nbformat_minor": 5
}
