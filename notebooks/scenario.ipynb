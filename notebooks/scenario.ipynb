{
 "cells": [
  {
   "cell_type": "code",
   "execution_count": 1,
   "metadata": {},
   "outputs": [],
   "source": [
    "from ngraph.scenario import Scenario\n",
    "from ngraph.traffic_demand import TrafficDemand\n",
    "from ngraph.traffic_manager import TrafficManager\n",
    "from ngraph.lib.flow_policy import FlowPolicyConfig"
   ]
  },
  {
   "cell_type": "code",
   "execution_count": 2,
   "metadata": {},
   "outputs": [],
   "source": [
    "scenario_yaml = \"\"\"\n",
    "blueprints:\n",
    "  brick_2tier:\n",
    "    groups:\n",
    "      t1:\n",
    "        node_count: 4\n",
    "        name_template: t1-{node_num}\n",
    "      t2:\n",
    "        node_count: 4\n",
    "        name_template: t2-{node_num}\n",
    "\n",
    "    adjacency:\n",
    "      - source: /t1\n",
    "        target: /t2\n",
    "        pattern: mesh\n",
    "        link_params:\n",
    "          capacity: 2\n",
    "          cost: 1\n",
    "\n",
    "  3tier_clos:\n",
    "    groups:\n",
    "      b1:\n",
    "        use_blueprint: brick_2tier\n",
    "      b2:\n",
    "        use_blueprint: brick_2tier\n",
    "      spine:\n",
    "        node_count: 16\n",
    "        name_template: t3-{node_num}\n",
    "\n",
    "    adjacency:\n",
    "      - source: b1/t2\n",
    "        target: spine\n",
    "        pattern: one_to_one\n",
    "        link_params:\n",
    "          capacity: 2\n",
    "          cost: 1\n",
    "      - source: b2/t2\n",
    "        target: spine\n",
    "        pattern: one_to_one\n",
    "        link_params:\n",
    "          capacity: 2\n",
    "          cost: 1\n",
    "\n",
    "network:\n",
    "  name: \"3tier_clos\"\n",
    "  version: 1.0\n",
    "\n",
    "  groups:\n",
    "    my_clos1:\n",
    "      use_blueprint: 3tier_clos\n",
    "\"\"\"\n",
    "scenario = Scenario.from_yaml(scenario_yaml)\n",
    "network = scenario.network"
   ]
  },
  {
   "cell_type": "code",
   "execution_count": 3,
   "metadata": {},
   "outputs": [
    {
     "data": {
      "text/plain": [
       "{('b1', 'b1'): inf, ('b1', 'b2'): 32.0, ('b2', 'b1'): 32.0, ('b2', 'b2'): inf}"
      ]
     },
     "execution_count": 3,
     "metadata": {},
     "output_type": "execute_result"
    }
   ],
   "source": [
    "network.max_flow(\n",
    "    source_path=r\".*(b[0-9]*)/t1\",\n",
    "    sink_path=r\".*(b[0-9]*)/t1\",\n",
    "    mode=\"pairwise\",\n",
    "    shortest_path=True,\n",
    ")"
   ]
  },
  {
   "cell_type": "code",
   "execution_count": 4,
   "metadata": {},
   "outputs": [
    {
     "data": {
      "text/plain": [
       "31.999999999999904"
      ]
     },
     "execution_count": 4,
     "metadata": {},
     "output_type": "execute_result"
    }
   ],
   "source": [
    "d = TrafficDemand(\n",
    "    source_path=r\".*(b[0-9]*)/t1\",\n",
    "    sink_path=r\".*(b[0-9]*)/t1\",\n",
    "    demand=32,\n",
    "    mode=\"combine\",\n",
    ")\n",
    "demands = [d]\n",
    "tm = TrafficManager(\n",
    "    network=network,\n",
    "    traffic_demands=demands,\n",
    "    default_flow_policy_config=FlowPolicyConfig.SHORTEST_PATHS_ECMP,\n",
    ")\n",
    "tm.build_graph()\n",
    "tm.expand_demands()\n",
    "tm.place_all_demands()"
   ]
  },
  {
   "cell_type": "code",
   "execution_count": 5,
   "metadata": {},
   "outputs": [
    {
     "data": {
      "text/plain": [
       "TrafficDemand(source_path='.*(b[0-9]*)/t1', sink_path='.*(b[0-9]*)/t1', priority=0, demand=32, demand_placed=32.0, flow_policy_config=<FlowPolicyConfig.SHORTEST_PATHS_ECMP: 1>, mode='combine', attrs={}, id='.*(b[0-9]*)/t1|.*(b[0-9]*)/t1|_WaSeCXEShS7JxwxzJLm3g')"
      ]
     },
     "execution_count": 5,
     "metadata": {},
     "output_type": "execute_result"
    }
   ],
   "source": [
    "d"
   ]
  },
  {
   "cell_type": "code",
   "execution_count": 6,
   "metadata": {},
   "outputs": [
    {
     "data": {
      "text/plain": [
       "[Demand(src_node='my_clos1/b1/t1/t1-1', dst_node='my_clos1/b1/t1/t1-2', volume=0.5714285714285714, demand_class=0, flow_policy=<ngraph.lib.flow_policy.FlowPolicy object at 0x10682b380>, placed_demand=0.5714285714285714),\n",
       " Demand(src_node='my_clos1/b1/t1/t1-1', dst_node='my_clos1/b1/t1/t1-3', volume=0.5714285714285714, demand_class=0, flow_policy=<ngraph.lib.flow_policy.FlowPolicy object at 0x105fe5450>, placed_demand=0.5714285714285714),\n",
       " Demand(src_node='my_clos1/b1/t1/t1-1', dst_node='my_clos1/b1/t1/t1-4', volume=0.5714285714285714, demand_class=0, flow_policy=<ngraph.lib.flow_policy.FlowPolicy object at 0x1067eb4d0>, placed_demand=0.5714285714285714),\n",
       " Demand(src_node='my_clos1/b1/t1/t1-1', dst_node='my_clos1/b2/t1/t1-1', volume=0.5714285714285714, demand_class=0, flow_policy=<ngraph.lib.flow_policy.FlowPolicy object at 0x10612a060>, placed_demand=0.5714285714285714),\n",
       " Demand(src_node='my_clos1/b1/t1/t1-1', dst_node='my_clos1/b2/t1/t1-2', volume=0.5714285714285714, demand_class=0, flow_policy=<ngraph.lib.flow_policy.FlowPolicy object at 0x106891e00>, placed_demand=0.5714285714285714),\n",
       " Demand(src_node='my_clos1/b1/t1/t1-1', dst_node='my_clos1/b2/t1/t1-3', volume=0.5714285714285714, demand_class=0, flow_policy=<ngraph.lib.flow_policy.FlowPolicy object at 0x10681be30>, placed_demand=0.5714285714285714),\n",
       " Demand(src_node='my_clos1/b1/t1/t1-1', dst_node='my_clos1/b2/t1/t1-4', volume=0.5714285714285714, demand_class=0, flow_policy=<ngraph.lib.flow_policy.FlowPolicy object at 0x1068579b0>, placed_demand=0.5714285714285714),\n",
       " Demand(src_node='my_clos1/b1/t1/t1-2', dst_node='my_clos1/b1/t1/t1-1', volume=0.5714285714285714, demand_class=0, flow_policy=<ngraph.lib.flow_policy.FlowPolicy object at 0x106857df0>, placed_demand=0.5714285714285714),\n",
       " Demand(src_node='my_clos1/b1/t1/t1-2', dst_node='my_clos1/b1/t1/t1-3', volume=0.5714285714285714, demand_class=0, flow_policy=<ngraph.lib.flow_policy.FlowPolicy object at 0x10687e450>, placed_demand=0.5714285714285714),\n",
       " Demand(src_node='my_clos1/b1/t1/t1-2', dst_node='my_clos1/b1/t1/t1-4', volume=0.5714285714285714, demand_class=0, flow_policy=<ngraph.lib.flow_policy.FlowPolicy object at 0x10687e850>, placed_demand=0.5714285714285714),\n",
       " Demand(src_node='my_clos1/b1/t1/t1-2', dst_node='my_clos1/b2/t1/t1-1', volume=0.5714285714285714, demand_class=0, flow_policy=<ngraph.lib.flow_policy.FlowPolicy object at 0x1067cee40>, placed_demand=0.5714285714285714),\n",
       " Demand(src_node='my_clos1/b1/t1/t1-2', dst_node='my_clos1/b2/t1/t1-2', volume=0.5714285714285714, demand_class=0, flow_policy=<ngraph.lib.flow_policy.FlowPolicy object at 0x1067cef30>, placed_demand=0.5714285714285714),\n",
       " Demand(src_node='my_clos1/b1/t1/t1-2', dst_node='my_clos1/b2/t1/t1-3', volume=0.5714285714285714, demand_class=0, flow_policy=<ngraph.lib.flow_policy.FlowPolicy object at 0x10613a970>, placed_demand=0.5714285714285714),\n",
       " Demand(src_node='my_clos1/b1/t1/t1-2', dst_node='my_clos1/b2/t1/t1-4', volume=0.5714285714285714, demand_class=0, flow_policy=<ngraph.lib.flow_policy.FlowPolicy object at 0x1068e1a90>, placed_demand=0.5714285714285714),\n",
       " Demand(src_node='my_clos1/b1/t1/t1-3', dst_node='my_clos1/b1/t1/t1-1', volume=0.5714285714285714, demand_class=0, flow_policy=<ngraph.lib.flow_policy.FlowPolicy object at 0x10691f5f0>, placed_demand=0.5714285714285714),\n",
       " Demand(src_node='my_clos1/b1/t1/t1-3', dst_node='my_clos1/b1/t1/t1-2', volume=0.5714285714285714, demand_class=0, flow_policy=<ngraph.lib.flow_policy.FlowPolicy object at 0x10691f790>, placed_demand=0.5714285714285714),\n",
       " Demand(src_node='my_clos1/b1/t1/t1-3', dst_node='my_clos1/b1/t1/t1-4', volume=0.5714285714285714, demand_class=0, flow_policy=<ngraph.lib.flow_policy.FlowPolicy object at 0x10691f860>, placed_demand=0.5714285714285714),\n",
       " Demand(src_node='my_clos1/b1/t1/t1-3', dst_node='my_clos1/b2/t1/t1-1', volume=0.5714285714285714, demand_class=0, flow_policy=<ngraph.lib.flow_policy.FlowPolicy object at 0x10691f930>, placed_demand=0.5714285714285714),\n",
       " Demand(src_node='my_clos1/b1/t1/t1-3', dst_node='my_clos1/b2/t1/t1-2', volume=0.5714285714285714, demand_class=0, flow_policy=<ngraph.lib.flow_policy.FlowPolicy object at 0x10691fa00>, placed_demand=0.5714285714285714),\n",
       " Demand(src_node='my_clos1/b1/t1/t1-3', dst_node='my_clos1/b2/t1/t1-3', volume=0.5714285714285714, demand_class=0, flow_policy=<ngraph.lib.flow_policy.FlowPolicy object at 0x10691fad0>, placed_demand=0.5714285714285714),\n",
       " Demand(src_node='my_clos1/b1/t1/t1-3', dst_node='my_clos1/b2/t1/t1-4', volume=0.5714285714285714, demand_class=0, flow_policy=<ngraph.lib.flow_policy.FlowPolicy object at 0x10691fba0>, placed_demand=0.5714285714285714),\n",
       " Demand(src_node='my_clos1/b1/t1/t1-4', dst_node='my_clos1/b1/t1/t1-1', volume=0.5714285714285714, demand_class=0, flow_policy=<ngraph.lib.flow_policy.FlowPolicy object at 0x10691fc70>, placed_demand=0.5714285714285714),\n",
       " Demand(src_node='my_clos1/b1/t1/t1-4', dst_node='my_clos1/b1/t1/t1-2', volume=0.5714285714285714, demand_class=0, flow_policy=<ngraph.lib.flow_policy.FlowPolicy object at 0x10691fd40>, placed_demand=0.5714285714285714),\n",
       " Demand(src_node='my_clos1/b1/t1/t1-4', dst_node='my_clos1/b1/t1/t1-3', volume=0.5714285714285714, demand_class=0, flow_policy=<ngraph.lib.flow_policy.FlowPolicy object at 0x10691fe10>, placed_demand=0.5714285714285714),\n",
       " Demand(src_node='my_clos1/b1/t1/t1-4', dst_node='my_clos1/b2/t1/t1-1', volume=0.5714285714285714, demand_class=0, flow_policy=<ngraph.lib.flow_policy.FlowPolicy object at 0x10691fee0>, placed_demand=0.5714285714285714),\n",
       " Demand(src_node='my_clos1/b1/t1/t1-4', dst_node='my_clos1/b2/t1/t1-2', volume=0.5714285714285714, demand_class=0, flow_policy=<ngraph.lib.flow_policy.FlowPolicy object at 0x106920050>, placed_demand=0.5714285714285714),\n",
       " Demand(src_node='my_clos1/b1/t1/t1-4', dst_node='my_clos1/b2/t1/t1-3', volume=0.5714285714285714, demand_class=0, flow_policy=<ngraph.lib.flow_policy.FlowPolicy object at 0x106920120>, placed_demand=0.5714285714285714),\n",
       " Demand(src_node='my_clos1/b1/t1/t1-4', dst_node='my_clos1/b2/t1/t1-4', volume=0.5714285714285714, demand_class=0, flow_policy=<ngraph.lib.flow_policy.FlowPolicy object at 0x1069201f0>, placed_demand=0.5714285714285714),\n",
       " Demand(src_node='my_clos1/b2/t1/t1-1', dst_node='my_clos1/b1/t1/t1-1', volume=0.5714285714285714, demand_class=0, flow_policy=<ngraph.lib.flow_policy.FlowPolicy object at 0x1069202c0>, placed_demand=0.5714285714285714),\n",
       " Demand(src_node='my_clos1/b2/t1/t1-1', dst_node='my_clos1/b1/t1/t1-2', volume=0.5714285714285714, demand_class=0, flow_policy=<ngraph.lib.flow_policy.FlowPolicy object at 0x106920390>, placed_demand=0.5714285714285714),\n",
       " Demand(src_node='my_clos1/b2/t1/t1-1', dst_node='my_clos1/b1/t1/t1-3', volume=0.5714285714285714, demand_class=0, flow_policy=<ngraph.lib.flow_policy.FlowPolicy object at 0x106920460>, placed_demand=0.5714285714285714),\n",
       " Demand(src_node='my_clos1/b2/t1/t1-1', dst_node='my_clos1/b1/t1/t1-4', volume=0.5714285714285714, demand_class=0, flow_policy=<ngraph.lib.flow_policy.FlowPolicy object at 0x106920530>, placed_demand=0.5714285714285714),\n",
       " Demand(src_node='my_clos1/b2/t1/t1-1', dst_node='my_clos1/b2/t1/t1-2', volume=0.5714285714285714, demand_class=0, flow_policy=<ngraph.lib.flow_policy.FlowPolicy object at 0x106920600>, placed_demand=0.5714285714285714),\n",
       " Demand(src_node='my_clos1/b2/t1/t1-1', dst_node='my_clos1/b2/t1/t1-3', volume=0.5714285714285714, demand_class=0, flow_policy=<ngraph.lib.flow_policy.FlowPolicy object at 0x1069206d0>, placed_demand=0.5714285714285714),\n",
       " Demand(src_node='my_clos1/b2/t1/t1-1', dst_node='my_clos1/b2/t1/t1-4', volume=0.5714285714285714, demand_class=0, flow_policy=<ngraph.lib.flow_policy.FlowPolicy object at 0x1069207a0>, placed_demand=0.5714285714285714),\n",
       " Demand(src_node='my_clos1/b2/t1/t1-2', dst_node='my_clos1/b1/t1/t1-1', volume=0.5714285714285714, demand_class=0, flow_policy=<ngraph.lib.flow_policy.FlowPolicy object at 0x106920870>, placed_demand=0.5714285714285714),\n",
       " Demand(src_node='my_clos1/b2/t1/t1-2', dst_node='my_clos1/b1/t1/t1-2', volume=0.5714285714285714, demand_class=0, flow_policy=<ngraph.lib.flow_policy.FlowPolicy object at 0x106920940>, placed_demand=0.5714285714285714),\n",
       " Demand(src_node='my_clos1/b2/t1/t1-2', dst_node='my_clos1/b1/t1/t1-3', volume=0.5714285714285714, demand_class=0, flow_policy=<ngraph.lib.flow_policy.FlowPolicy object at 0x106920a10>, placed_demand=0.5714285714285714),\n",
       " Demand(src_node='my_clos1/b2/t1/t1-2', dst_node='my_clos1/b1/t1/t1-4', volume=0.5714285714285714, demand_class=0, flow_policy=<ngraph.lib.flow_policy.FlowPolicy object at 0x106920ae0>, placed_demand=0.5714285714285714),\n",
       " Demand(src_node='my_clos1/b2/t1/t1-2', dst_node='my_clos1/b2/t1/t1-1', volume=0.5714285714285714, demand_class=0, flow_policy=<ngraph.lib.flow_policy.FlowPolicy object at 0x106920bb0>, placed_demand=0.5714285714285714),\n",
       " Demand(src_node='my_clos1/b2/t1/t1-2', dst_node='my_clos1/b2/t1/t1-3', volume=0.5714285714285714, demand_class=0, flow_policy=<ngraph.lib.flow_policy.FlowPolicy object at 0x106920c80>, placed_demand=0.5714285714285714),\n",
       " Demand(src_node='my_clos1/b2/t1/t1-2', dst_node='my_clos1/b2/t1/t1-4', volume=0.5714285714285714, demand_class=0, flow_policy=<ngraph.lib.flow_policy.FlowPolicy object at 0x106920d50>, placed_demand=0.5714285714285714),\n",
       " Demand(src_node='my_clos1/b2/t1/t1-3', dst_node='my_clos1/b1/t1/t1-1', volume=0.5714285714285714, demand_class=0, flow_policy=<ngraph.lib.flow_policy.FlowPolicy object at 0x106920e20>, placed_demand=0.5714285714285714),\n",
       " Demand(src_node='my_clos1/b2/t1/t1-3', dst_node='my_clos1/b1/t1/t1-2', volume=0.5714285714285714, demand_class=0, flow_policy=<ngraph.lib.flow_policy.FlowPolicy object at 0x106920ef0>, placed_demand=0.5714285714285714),\n",
       " Demand(src_node='my_clos1/b2/t1/t1-3', dst_node='my_clos1/b1/t1/t1-3', volume=0.5714285714285714, demand_class=0, flow_policy=<ngraph.lib.flow_policy.FlowPolicy object at 0x106920fc0>, placed_demand=0.5714285714285714),\n",
       " Demand(src_node='my_clos1/b2/t1/t1-3', dst_node='my_clos1/b1/t1/t1-4', volume=0.5714285714285714, demand_class=0, flow_policy=<ngraph.lib.flow_policy.FlowPolicy object at 0x106921090>, placed_demand=0.5714285714285714),\n",
       " Demand(src_node='my_clos1/b2/t1/t1-3', dst_node='my_clos1/b2/t1/t1-1', volume=0.5714285714285714, demand_class=0, flow_policy=<ngraph.lib.flow_policy.FlowPolicy object at 0x106921160>, placed_demand=0.5714285714285714),\n",
       " Demand(src_node='my_clos1/b2/t1/t1-3', dst_node='my_clos1/b2/t1/t1-2', volume=0.5714285714285714, demand_class=0, flow_policy=<ngraph.lib.flow_policy.FlowPolicy object at 0x106921230>, placed_demand=0.5714285714285714),\n",
       " Demand(src_node='my_clos1/b2/t1/t1-3', dst_node='my_clos1/b2/t1/t1-4', volume=0.5714285714285714, demand_class=0, flow_policy=<ngraph.lib.flow_policy.FlowPolicy object at 0x106921300>, placed_demand=0.5714285714285714),\n",
       " Demand(src_node='my_clos1/b2/t1/t1-4', dst_node='my_clos1/b1/t1/t1-1', volume=0.5714285714285714, demand_class=0, flow_policy=<ngraph.lib.flow_policy.FlowPolicy object at 0x1069213d0>, placed_demand=0.5714285714285714),\n",
       " Demand(src_node='my_clos1/b2/t1/t1-4', dst_node='my_clos1/b1/t1/t1-2', volume=0.5714285714285714, demand_class=0, flow_policy=<ngraph.lib.flow_policy.FlowPolicy object at 0x1069214a0>, placed_demand=0.5714285714285714),\n",
       " Demand(src_node='my_clos1/b2/t1/t1-4', dst_node='my_clos1/b1/t1/t1-3', volume=0.5714285714285714, demand_class=0, flow_policy=<ngraph.lib.flow_policy.FlowPolicy object at 0x106921570>, placed_demand=0.5714285714285714),\n",
       " Demand(src_node='my_clos1/b2/t1/t1-4', dst_node='my_clos1/b1/t1/t1-4', volume=0.5714285714285714, demand_class=0, flow_policy=<ngraph.lib.flow_policy.FlowPolicy object at 0x106921640>, placed_demand=0.5714285714285714),\n",
       " Demand(src_node='my_clos1/b2/t1/t1-4', dst_node='my_clos1/b2/t1/t1-1', volume=0.5714285714285714, demand_class=0, flow_policy=<ngraph.lib.flow_policy.FlowPolicy object at 0x106921710>, placed_demand=0.5714285714285714),\n",
       " Demand(src_node='my_clos1/b2/t1/t1-4', dst_node='my_clos1/b2/t1/t1-2', volume=0.5714285714285714, demand_class=0, flow_policy=<ngraph.lib.flow_policy.FlowPolicy object at 0x1069217e0>, placed_demand=0.5714285714285714),\n",
       " Demand(src_node='my_clos1/b2/t1/t1-4', dst_node='my_clos1/b2/t1/t1-3', volume=0.5714285714285714, demand_class=0, flow_policy=<ngraph.lib.flow_policy.FlowPolicy object at 0x1069218b0>, placed_demand=0.5714285714285714)]"
      ]
     },
     "execution_count": 6,
     "metadata": {},
     "output_type": "execute_result"
    }
   ],
   "source": [
    "tm.demands"
   ]
  },
  {
   "cell_type": "code",
   "execution_count": null,
   "metadata": {},
   "outputs": [],
   "source": []
  }
 ],
 "metadata": {
  "kernelspec": {
   "display_name": "ngraph-venv",
   "language": "python",
   "name": "python3"
  },
  "language_info": {
   "codemirror_mode": {
    "name": "ipython",
    "version": 3
   },
   "file_extension": ".py",
   "mimetype": "text/x-python",
   "name": "python",
   "nbconvert_exporter": "python",
   "pygments_lexer": "ipython3",
   "version": "3.13.1"
  }
 },
 "nbformat": 4,
 "nbformat_minor": 2
}
