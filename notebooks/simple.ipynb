{
 "cells": [
  {
   "cell_type": "code",
   "execution_count": 51,
   "id": "4b9a80f0",
   "metadata": {},
   "outputs": [],
   "source": [
    "from ngraph.lib.flow_policy import FlowPlacement\n",
    "from ngraph.scenario import Scenario"
   ]
  },
  {
   "cell_type": "code",
   "execution_count": 52,
   "id": "ba1770d5",
   "metadata": {},
   "outputs": [],
   "source": [
    "scenario_yaml = \"\"\"\n",
    "network:\n",
    "  name: \"fundamentals_example\"\n",
    "  \n",
    "  # Create individual nodes\n",
    "  nodes:\n",
    "    A: {}\n",
    "    B: {}\n",
    "    C: {}\n",
    "    D: {}\n",
    "\n",
    "  # Create links with different capacities and costs\n",
    "  links:\n",
    "    # Parallel edges between A→B\n",
    "    - source: A\n",
    "      target: B\n",
    "      link_params:\n",
    "        capacity: 1\n",
    "        cost: 1\n",
    "    - source: A\n",
    "      target: B\n",
    "      link_params:\n",
    "        capacity: 2\n",
    "        cost: 1\n",
    "    \n",
    "    # Parallel edges between B→C  \n",
    "    - source: B\n",
    "      target: C\n",
    "      link_params:\n",
    "        capacity: 1\n",
    "        cost: 1\n",
    "    - source: B\n",
    "      target: C\n",
    "      link_params:\n",
    "        capacity: 2\n",
    "        cost: 1\n",
    "    \n",
    "    # Alternative path A→D→C\n",
    "    - source: A\n",
    "      target: D\n",
    "      link_params:\n",
    "        capacity: 3\n",
    "        cost: 2\n",
    "    - source: D\n",
    "      target: C\n",
    "      link_params:\n",
    "        capacity: 3\n",
    "        cost: 2\n",
    "\"\"\"\n",
    "\n",
    "# Create the network\n",
    "scenario = Scenario.from_yaml(scenario_yaml)\n",
    "network = scenario.network"
   ]
  },
  {
   "cell_type": "code",
   "execution_count": 53,
   "id": "6ddb9f32",
   "metadata": {},
   "outputs": [
    {
     "name": "stdout",
     "output_type": "stream",
     "text": [
      "Maximum flow (all paths): {('A', 'C'): 6.0}\n",
      "Flow on shortest paths: {('A', 'C'): 3.0}\n",
      "Equal-balanced flow: {('A', 'C'): 2.0}\n"
     ]
    }
   ],
   "source": [
    "# 1. \"True\" maximum flow (uses all available paths)\n",
    "max_flow_all = network.max_flow(source_path=\"A\", sink_path=\"C\")\n",
    "print(f\"Maximum flow (all paths): {max_flow_all}\")\n",
    "# Result: 6.0 (uses both A→B→C path capacity of 3 and A→D→C path capacity of 3)\n",
    "\n",
    "# 2. Flow along shortest paths only\n",
    "max_flow_shortest = network.max_flow(source_path=\"A\", sink_path=\"C\", shortest_path=True)\n",
    "print(f\"Flow on shortest paths: {max_flow_shortest}\")\n",
    "# Result: 3.0 (only uses A→B→C path, ignoring higher-cost A→D→C path)\n",
    "\n",
    "# 3. Equal-balanced flow placement on shortest paths\n",
    "max_flow_balanced = network.max_flow(\n",
    "    source_path=\"A\",\n",
    "    sink_path=\"C\",\n",
    "    shortest_path=True,\n",
    "    flow_placement=FlowPlacement.EQUAL_BALANCED,\n",
    ")\n",
    "print(f\"Equal-balanced flow: {max_flow_balanced}\")\n",
    "# Result: 2.0 (splits flow equally across parallel edges in A→B and B→C)"
   ]
  }
 ],
 "metadata": {
  "kernelspec": {
   "display_name": "ngraph-venv",
   "language": "python",
   "name": "python3"
  },
  "language_info": {
   "codemirror_mode": {
    "name": "ipython",
    "version": 3
   },
   "file_extension": ".py",
   "mimetype": "text/x-python",
   "name": "python",
   "nbconvert_exporter": "python",
   "pygments_lexer": "ipython3",
   "version": "3.13.3"
  }
 },
 "nbformat": 4,
 "nbformat_minor": 5
}
