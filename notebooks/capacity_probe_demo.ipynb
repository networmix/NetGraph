{
 "cells": [
  {
   "cell_type": "markdown",
   "id": "b3b8c827",
   "metadata": {},
   "source": [
    "# Enhanced MaxFlow Demo\n",
    "\n",
    "This notebook demonstrates the extended max_flow functionality with:\n",
    "1. FlowSummary analytics for bottleneck identification\n",
    "2. Saturated edge detection\n",
    "3. Sensitivity analysis for capacity changes (increases and decreases)\n",
    "4. Min-cut identification\n"
   ]
  },
  {
   "cell_type": "code",
   "execution_count": 9,
   "id": "eb6f83bb",
   "metadata": {},
   "outputs": [],
   "source": [
    "# Import required modules\n",
    "from ngraph.lib.algorithms.max_flow import (\n",
    "    calc_max_flow,\n",
    "    run_sensitivity,\n",
    "    saturated_edges,\n",
    ")\n",
    "from ngraph.lib.graph import StrictMultiDiGraph"
   ]
  },
  {
   "cell_type": "markdown",
   "id": "f02e9a5a",
   "metadata": {},
   "source": [
    "## Sample Network Creation\n",
    "\n",
    "First, let's create a sample network with known bottlenecks for our demonstrations."
   ]
  },
  {
   "cell_type": "code",
   "execution_count": 10,
   "id": "a8525554",
   "metadata": {},
   "outputs": [
    {
     "name": "stdout",
     "output_type": "stream",
     "text": [
      "Network has 5 nodes and 6 edges\n",
      "\n",
      "Edges with capacities:\n",
      "  A -> B (key=OOFmeRtuSou6vpZLVhPfmw): capacity=100.0\n",
      "  A -> C (key=T4O7lzy-Sf--3No5uZn5ew): capacity=50.0\n",
      "  B -> D (key=q3CVjlmFSMyxznlvGTKhdA): capacity=80.0\n",
      "  B -> E (key=6M4a3ZwZTKuytHkSyrJvGA): capacity=40.0\n",
      "  C -> D (key=QTTKXGdHT8ud6BnwMO-_lQ): capacity=60.0\n",
      "  D -> E (key=hEkosiunQQizsUpPYQ5DKQ): capacity=120.0\n"
     ]
    }
   ],
   "source": [
    "def create_sample_network():\n",
    "    \"\"\"Create a sample network with known bottlenecks.\"\"\"\n",
    "    g = StrictMultiDiGraph()\n",
    "\n",
    "    # Add nodes\n",
    "    for node in [\"A\", \"B\", \"C\", \"D\", \"E\"]:\n",
    "        g.add_node(node)\n",
    "\n",
    "    # Add edges with varying capacities to create bottlenecks\n",
    "    edges = [\n",
    "        (\"A\", \"B\", {\"capacity\": 100.0, \"flow\": 0.0, \"flows\": {}, \"cost\": 1.0}),\n",
    "        (\"A\", \"C\", {\"capacity\": 50.0, \"flow\": 0.0, \"flows\": {}, \"cost\": 1.0}),\n",
    "        (\"B\", \"D\", {\"capacity\": 80.0, \"flow\": 0.0, \"flows\": {}, \"cost\": 1.0}),\n",
    "        (\"C\", \"D\", {\"capacity\": 60.0, \"flow\": 0.0, \"flows\": {}, \"cost\": 1.0}),\n",
    "        (\n",
    "            \"B\",\n",
    "            \"E\",\n",
    "            {\"capacity\": 40.0, \"flow\": 0.0, \"flows\": {}, \"cost\": 1.0},\n",
    "        ),  # Bottleneck!\n",
    "        (\"D\", \"E\", {\"capacity\": 120.0, \"flow\": 0.0, \"flows\": {}, \"cost\": 1.0}),\n",
    "    ]\n",
    "\n",
    "    for u, v, attrs in edges:\n",
    "        g.add_edge(u, v, **attrs)\n",
    "\n",
    "    return g\n",
    "\n",
    "\n",
    "# Create our sample network\n",
    "g = create_sample_network()\n",
    "\n",
    "# Display network structure\n",
    "print(f\"Network has {g.number_of_nodes()} nodes and {g.number_of_edges()} edges\")\n",
    "print(\"\\nEdges with capacities:\")\n",
    "for u, v, k, d in g.edges(data=True, keys=True):\n",
    "    print(f\"  {u} -> {v} (key={k}): capacity={d['capacity']}\")"
   ]
  },
  {
   "cell_type": "markdown",
   "id": "7e743879",
   "metadata": {},
   "source": [
    "## 1. Basic Max Flow\n",
    "\n",
    "First, let's demonstrate the basic MaxFlow."
   ]
  },
  {
   "cell_type": "code",
   "execution_count": 3,
   "id": "8984076a",
   "metadata": {},
   "outputs": [
    {
     "name": "stdout",
     "output_type": "stream",
     "text": [
      "=== Basic Max Flow (Backward Compatible) ===\n",
      "Maximum flow from A to E: 150.0\n"
     ]
    }
   ],
   "source": [
    "print(\"=== Basic Max Flow (Backward Compatible) ===\")\n",
    "g = create_sample_network()\n",
    "\n",
    "# Traditional usage - returns scalar\n",
    "max_flow = calc_max_flow(g, \"A\", \"E\")\n",
    "print(f\"Maximum flow from A to E: {max_flow}\")"
   ]
  },
  {
   "cell_type": "markdown",
   "id": "faa8bb15",
   "metadata": {},
   "source": [
    "## 2. Flow Summary Analytics\n",
    "\n",
    "Now let's explore the enhanced functionality with FlowSummary analytics that provide detailed insights into the flow solution."
   ]
  },
  {
   "cell_type": "code",
   "execution_count": 4,
   "id": "c19da68c",
   "metadata": {},
   "outputs": [
    {
     "name": "stdout",
     "output_type": "stream",
     "text": [
      "=== Flow Summary Analytics ===\n",
      "Maximum flow: 150.0\n",
      "Total edges analyzed: 6\n",
      "Reachable nodes from source: ['A']\n",
      "Min-cut edges (bottlenecks): 2\n",
      "\n",
      "Min-cut edges:\n",
      "  A -> B (key=FvkLnMVUSbKLEvtsEhqZBw, capacity=100.0)\n",
      "  A -> C (key=QD32uiIESSifIs7c6xKFzg, capacity=50.0)\n",
      "\n",
      "Flow details:\n",
      "  - Total flow: 150.0\n",
      "  - Edge flows: 6 edges have flow\n",
      "  - Residual capacities: 6 edges tracked\n"
     ]
    }
   ],
   "source": [
    "print(\"=== Flow Summary Analytics ===\")\n",
    "g = create_sample_network()\n",
    "\n",
    "# Enhanced usage - returns flow value and summary\n",
    "flow_value, summary = calc_max_flow(g, \"A\", \"E\", return_summary=True)\n",
    "\n",
    "print(f\"Maximum flow: {flow_value}\")\n",
    "print(f\"Total edges analyzed: {len(summary.edge_flow)}\")\n",
    "print(f\"Reachable nodes from source: {sorted(summary.reachable)}\")\n",
    "print(f\"Min-cut edges (bottlenecks): {len(summary.min_cut)}\")\n",
    "\n",
    "if summary.min_cut:\n",
    "    print(\"\\nMin-cut edges:\")\n",
    "    for edge in summary.min_cut:\n",
    "        u, v, k = edge\n",
    "        capacity = None\n",
    "        for u_edge, v_edge, k_edge, d in g.edges(data=True, keys=True):\n",
    "            if (u, v, k) == (u_edge, v_edge, k_edge):\n",
    "                capacity = d.get(\"capacity\", \"unknown\")\n",
    "                break\n",
    "        print(f\"  {u} -> {v} (key={k}, capacity={capacity})\")\n",
    "\n",
    "print(\"\\nFlow details:\")\n",
    "print(f\"  - Total flow: {summary.total_flow}\")\n",
    "print(f\"  - Edge flows: {len(summary.edge_flow)} edges have flow\")\n",
    "print(f\"  - Residual capacities: {len(summary.residual_cap)} edges tracked\")"
   ]
  },
  {
   "cell_type": "markdown",
   "id": "48cd6105",
   "metadata": {},
   "source": [
    "## 3. Bottleneck Detection\n",
    "\n",
    "The `saturated_edges` helper function identifies which edges are fully utilized and represent bottlenecks in the network."
   ]
  },
  {
   "cell_type": "code",
   "execution_count": 5,
   "id": "290285ee",
   "metadata": {},
   "outputs": [
    {
     "name": "stdout",
     "output_type": "stream",
     "text": [
      "=== Bottleneck Detection ===\n",
      "Found 3 saturated edges:\n",
      "  A -> B (key=ZBE4tJf9QsOQ3JiplORHZQ) - fully utilized\n",
      "  A -> C (key=qyjhuhkHSNaSXTiyix6zRg) - fully utilized\n",
      "  B -> E (key=IJdfc4sxT7CQMSO8Tjgd_g) - fully utilized\n",
      "\n",
      "Saturated edge details:\n",
      "  A -> B (key=ZBE4tJf9QsOQ3JiplORHZQ): capacity=100.0\n",
      "  A -> C (key=qyjhuhkHSNaSXTiyix6zRg): capacity=50.0\n",
      "  B -> E (key=IJdfc4sxT7CQMSO8Tjgd_g): capacity=40.0\n"
     ]
    }
   ],
   "source": [
    "print(\"=== Bottleneck Detection ===\")\n",
    "g = create_sample_network()\n",
    "\n",
    "# Find saturated (bottleneck) edges\n",
    "saturated = saturated_edges(g, \"A\", \"E\")\n",
    "\n",
    "print(f\"Found {len(saturated)} saturated edges:\")\n",
    "for edge in saturated:\n",
    "    u, v, k = edge\n",
    "    print(f\"  {u} -> {v} (key={k}) - fully utilized\")\n",
    "\n",
    "# Let's also show the edge capacities for context\n",
    "print(\"\\nSaturated edge details:\")\n",
    "for edge in saturated:\n",
    "    u, v, k = edge\n",
    "    edge_data = g.get_edge_data(u, v, k)\n",
    "    if edge_data:\n",
    "        print(f\"  {u} -> {v} (key={k}): capacity={edge_data['capacity']}\")"
   ]
  },
  {
   "cell_type": "markdown",
   "id": "22a7ac85",
   "metadata": {},
   "source": [
    "## 4. Sensitivity Analysis for Capacity Changes\n",
    "\n",
    "The `run_sensitivity` function helps identify which capacity changes would have the highest impact on total flow. It supports both capacity increases (positive values) and decreases (negative values). When a capacity change would result in a negative capacity, the function automatically sets the capacity to zero."
   ]
  },
  {
   "cell_type": "code",
   "execution_count": 11,
   "id": "d3c87e0e",
   "metadata": {},
   "outputs": [
    {
     "name": "stdout",
     "output_type": "stream",
     "text": [
      "=== Sensitivity Analysis for Capacity Changes ===\n",
      "\n",
      "--- Capacity Increases ---\n",
      "Impact of increasing each saturated edge by 20 units:\n",
      "  A -> B (key=0_mOkYdZTvajpoBNoYrH_w): +10.0 flow increase\n",
      "  A -> C (key=EqYAP0u0RTOU_ydmbCbvsA): +10.0 flow increase\n",
      "  B -> E (key=Jh6FuF36Tz-QkBx0y2BtuA): +0.0 flow increase\n",
      "\n",
      "Best upgrade target: A -> B (key=0_mOkYdZTvajpoBNoYrH_w) with +10.0 flow increase\n",
      "  Current capacity: 100.0 -> Upgraded capacity: 120.0\n",
      "\n",
      "--- Capacity Decreases ---\n",
      "Impact of decreasing each saturated edge by 5 units:\n",
      "  A -> B (key=0_mOkYdZTvajpoBNoYrH_w): -5.0 flow change\n",
      "  A -> C (key=EqYAP0u0RTOU_ydmbCbvsA): -5.0 flow change\n",
      "  B -> E (key=Jh6FuF36Tz-QkBx0y2BtuA): +0.0 flow change\n",
      "\n",
      "Most critical edge for reduction: A -> B (key=0_mOkYdZTvajpoBNoYrH_w) with -5.0 flow impact\n",
      "\n",
      "--- Testing Large Decrease (Zero-Capacity Behavior) ---\n",
      "Large decrease test: 3 edges analyzed (capacities set to 0 when change would be negative)\n",
      "\n",
      "Impact of setting each edge capacity to zero:\n",
      "  A -> B (capacity 100.0 -> 0): -100.0 flow change\n",
      "  A -> C (capacity 50.0 -> 0): -50.0 flow change\n",
      "  B -> E (capacity 40.0 -> 0): -30.0 flow change\n"
     ]
    }
   ],
   "source": [
    "print(\"=== Sensitivity Analysis for Capacity Changes ===\")\n",
    "g = create_sample_network()\n",
    "\n",
    "# Analyze impact of increasing each bottleneck capacity\n",
    "print(\"\\n--- Capacity Increases ---\")\n",
    "sensitivity_increase = run_sensitivity(g, \"A\", \"E\", change_amount=20.0)\n",
    "\n",
    "print(\"Impact of increasing each saturated edge by 20 units:\")\n",
    "\n",
    "# Sort by impact (highest first)\n",
    "sorted_impacts = sorted(sensitivity_increase.items(), key=lambda x: x[1], reverse=True)\n",
    "\n",
    "for edge, impact in sorted_impacts:\n",
    "    u, v, k = edge\n",
    "    print(f\"  {u} -> {v} (key={k}): +{impact:.1f} flow increase\")\n",
    "\n",
    "if sorted_impacts:\n",
    "    best_edge, best_impact = sorted_impacts[0]\n",
    "    u, v, k = best_edge\n",
    "    print(\n",
    "        f\"\\nBest upgrade target: {u} -> {v} (key={k}) with +{best_impact:.1f} flow increase\"\n",
    "    )\n",
    "\n",
    "    # Show current capacity for context\n",
    "    edge_data = g.get_edge_data(u, v, k)\n",
    "    if edge_data:\n",
    "        current_cap = edge_data[\"capacity\"]\n",
    "        print(\n",
    "            f\"  Current capacity: {current_cap} -> Upgraded capacity: {current_cap + 20.0}\"\n",
    "        )\n",
    "\n",
    "# Analyze impact of decreasing each bottleneck capacity\n",
    "print(\"\\n--- Capacity Decreases ---\")\n",
    "sensitivity_decrease = run_sensitivity(g, \"A\", \"E\", change_amount=-5.0)\n",
    "\n",
    "print(\"Impact of decreasing each saturated edge by 5 units:\")\n",
    "\n",
    "# Sort by impact (most negative first)\n",
    "sorted_impacts_dec = sorted(sensitivity_decrease.items(), key=lambda x: x[1])\n",
    "\n",
    "for edge, impact in sorted_impacts_dec:\n",
    "    u, v, k = edge\n",
    "    print(f\"  {u} -> {v} (key={k}): {impact:+.1f} flow change\")\n",
    "\n",
    "if sorted_impacts_dec:\n",
    "    worst_edge, worst_impact = sorted_impacts_dec[0]\n",
    "    u, v, k = worst_edge\n",
    "    print(\n",
    "        f\"\\nMost critical edge for reduction: {u} -> {v} (key={k}) with {worst_impact:+.1f} flow impact\"\n",
    "    )\n",
    "\n",
    "# Demonstrate zero-capacity behavior for large decreases\n",
    "print(\"\\n--- Testing Large Decrease (Zero-Capacity Behavior) ---\")\n",
    "sensitivity_large = run_sensitivity(g, \"A\", \"E\", change_amount=-100.0)\n",
    "print(\n",
    "    f\"Large decrease test: {len(sensitivity_large)} edges analyzed (capacities set to 0 when change would be negative)\"\n",
    ")\n",
    "\n",
    "# Show the impact of setting each edge to zero capacity\n",
    "if sensitivity_large:\n",
    "    print(\"\\nImpact of setting each edge capacity to zero:\")\n",
    "    sorted_zero_impacts = sorted(sensitivity_large.items(), key=lambda x: x[1])\n",
    "    for edge, impact in sorted_zero_impacts:\n",
    "        u, v, k = edge\n",
    "        edge_data = g.get_edge_data(u, v, k)\n",
    "        current_cap = edge_data[\"capacity\"] if edge_data else \"unknown\"\n",
    "        print(f\"  {u} -> {v} (capacity {current_cap} -> 0): {impact:+.1f} flow change\")"
   ]
  },
  {
   "cell_type": "markdown",
   "id": "82856366",
   "metadata": {},
   "source": [
    "## 5. Advanced Sensitivity Analysis Scenarios\n",
    "\n",
    "Let's explore more advanced scenarios to demonstrate the full capabilities of the enhanced sensitivity analysis."
   ]
  },
  {
   "cell_type": "code",
   "execution_count": 12,
   "id": "7cdd2ea9",
   "metadata": {},
   "outputs": [
    {
     "name": "stdout",
     "output_type": "stream",
     "text": [
      "=== Advanced Sensitivity Analysis Scenarios ===\n",
      "Baseline maximum flow: 150.0\n",
      "\n",
      "--- Scenario 1: Which single +10 capacity upgrade gives best ROI? ---\n",
      "Best investment: A -> B (ROI: 1.00 flow per capacity unit)\n",
      "\n",
      "--- Scenario 2: Risk Analysis - Most Critical Edge Vulnerabilities ---\n",
      "Most vulnerable edge: A -> B (losing 2 capacity = -2.0 flow)\n",
      "  Current capacity: 100.0, Utilization efficiency: 1.00\n",
      "\n",
      "--- Scenario 3: Sensitivity vs. Change Magnitude ---\n",
      "  Change ± 1: Max impact  +1.0, Avg impact  +0.7\n",
      "  Change ± 5: Max impact  +5.0, Avg impact  +3.3\n",
      "  Change ±10: Max impact +10.0, Avg impact  +6.7\n",
      "  Change ±20: Max impact +10.0, Avg impact  +6.7\n"
     ]
    }
   ],
   "source": [
    "print(\"=== Advanced Sensitivity Analysis Scenarios ===\")\n",
    "g = create_sample_network()\n",
    "\n",
    "# Get baseline information\n",
    "baseline_flow = calc_max_flow(g, \"A\", \"E\")\n",
    "print(f\"Baseline maximum flow: {baseline_flow}\")\n",
    "\n",
    "# Scenario 1: What if we could increase any edge by 10 units?\n",
    "print(\"\\n--- Scenario 1: Which single +10 capacity upgrade gives best ROI? ---\")\n",
    "sensitivity_10 = run_sensitivity(g, \"A\", \"E\", change_amount=10.0)\n",
    "if sensitivity_10:\n",
    "    best_edge = max(sensitivity_10.items(), key=lambda x: x[1])\n",
    "    edge, impact = best_edge\n",
    "    u, v, k = edge\n",
    "    roi = impact / 10.0  # Flow increase per unit of capacity added\n",
    "    print(f\"Best investment: {u} -> {v} (ROI: {roi:.2f} flow per capacity unit)\")\n",
    "\n",
    "# Scenario 2: Risk analysis - which edge reduction hurts most?\n",
    "print(\"\\n--- Scenario 2: Risk Analysis - Most Critical Edge Vulnerabilities ---\")\n",
    "sensitivity_risk = run_sensitivity(g, \"A\", \"E\", change_amount=-2.0)\n",
    "if sensitivity_risk:\n",
    "    worst_edge = min(sensitivity_risk.items(), key=lambda x: x[1])\n",
    "    edge, impact = worst_edge\n",
    "    u, v, k = edge\n",
    "    print(f\"Most vulnerable edge: {u} -> {v} (losing 2 capacity = {impact:+.1f} flow)\")\n",
    "\n",
    "    # Show current capacity for context\n",
    "    edge_data = g.get_edge_data(u, v, k)\n",
    "    if edge_data:\n",
    "        current_cap = edge_data[\"capacity\"]\n",
    "        utilization = -impact / 2.0  # How much flow per unit of lost capacity\n",
    "        print(\n",
    "            f\"  Current capacity: {current_cap}, Utilization efficiency: {utilization:.2f}\"\n",
    "        )\n",
    "\n",
    "# Scenario 3: Comparative analysis of different change magnitudes\n",
    "print(\"\\n--- Scenario 3: Sensitivity vs. Change Magnitude ---\")\n",
    "for change in [1.0, 5.0, 10.0, 20.0]:\n",
    "    sens = run_sensitivity(g, \"A\", \"E\", change_amount=change)\n",
    "    if sens:\n",
    "        max_impact = max(sens.values())\n",
    "        avg_impact = sum(sens.values()) / len(sens) if sens else 0\n",
    "        print(\n",
    "            f\"  Change ±{change:2.0f}: Max impact {max_impact:+5.1f}, Avg impact {avg_impact:+5.1f}\"\n",
    "        )"
   ]
  },
  {
   "cell_type": "markdown",
   "id": "23c3a0bb",
   "metadata": {},
   "source": [
    "## 6. Combined Analysis\n",
    "\n",
    "Now let's demonstrate the comprehensive analysis capabilities by using both return flags to get complete information in a single call."
   ]
  },
  {
   "cell_type": "code",
   "execution_count": 8,
   "id": "770d52ee",
   "metadata": {},
   "outputs": [
    {
     "name": "stdout",
     "output_type": "stream",
     "text": [
      "=== Combined Analysis ===\n",
      "Analysis Results:\n",
      "  - Maximum flow: 150.0\n",
      "  - Bottleneck edges: 2\n",
      "  - Flow graph has 6 edges with flow assignments\n",
      "  - Flow conservation check: 150.0 == 150.0\n",
      "\n",
      "Detailed edge flows:\n",
      "  A -> B (key=r9zIPN4gQuKNbT8DzDH6oQ): 100.0 units\n",
      "  A -> C (key=MCL5LU6PSa-6H156pTadog): 50.0 units\n",
      "  B -> D (key=lkHnuBw3RfyOMJx3BOXn8Q): 60.0 units\n",
      "  B -> E (key=O1QZZ3JvStWsavp1er_Mdg): 40.0 units\n",
      "  C -> D (key=TWZAFWRZQKuDcjLvBCuowA): 50.0 units\n",
      "  D -> E (key=JjT048d0RGubB9gSQyFDZg): 110.0 units\n",
      "\n",
      "Residual capacities (remaining capacity):\n",
      "  A -> B (key=r9zIPN4gQuKNbT8DzDH6oQ): 0.000 (SATURATED)\n",
      "  A -> C (key=MCL5LU6PSa-6H156pTadog): 0.000 (SATURATED)\n",
      "  B -> E (key=O1QZZ3JvStWsavp1er_Mdg): 0.000 (SATURATED)\n"
     ]
    }
   ],
   "source": [
    "print(\"=== Combined Analysis ===\")\n",
    "g = create_sample_network()\n",
    "\n",
    "# Get all information in one call\n",
    "flow_value, summary, flow_graph = calc_max_flow(\n",
    "    g, \"A\", \"E\", return_summary=True, return_graph=True\n",
    ")\n",
    "\n",
    "print(\"Analysis Results:\")\n",
    "print(f\"  - Maximum flow: {flow_value}\")\n",
    "print(f\"  - Bottleneck edges: {len(summary.min_cut)}\")\n",
    "print(f\"  - Flow graph has {flow_graph.number_of_edges()} edges with flow assignments\")\n",
    "\n",
    "# Verify flow conservation\n",
    "total_source_outflow = sum(\n",
    "    flow for (u, v, k), flow in summary.edge_flow.items() if u == \"A\"\n",
    ")\n",
    "print(f\"  - Flow conservation check: {total_source_outflow} == {summary.total_flow}\")\n",
    "\n",
    "# Show detailed edge flow information\n",
    "print(\"\\nDetailed edge flows:\")\n",
    "for (u, v, k), flow in summary.edge_flow.items():\n",
    "    if flow > 0:  # Only show edges with positive flow\n",
    "        print(f\"  {u} -> {v} (key={k}): {flow:.1f} units\")\n",
    "\n",
    "# Show residual capacities for bottleneck analysis\n",
    "print(\"\\nResidual capacities (remaining capacity):\")\n",
    "for (u, v, k), residual in summary.residual_cap.items():\n",
    "    if residual <= 1e-10:  # Show saturated edges\n",
    "        print(f\"  {u} -> {v} (key={k}): {residual:.3f} (SATURATED)\")\n",
    "    elif residual < 10:  # Show nearly saturated edges\n",
    "        print(f\"  {u} -> {v} (key={k}): {residual:.1f}\")"
   ]
  }
 ],
 "metadata": {
  "kernelspec": {
   "display_name": "ngraph-venv",
   "language": "python",
   "name": "python3"
  },
  "language_info": {
   "codemirror_mode": {
    "name": "ipython",
    "version": 3
   },
   "file_extension": ".py",
   "mimetype": "text/x-python",
   "name": "python",
   "nbconvert_exporter": "python",
   "pygments_lexer": "ipython3",
   "version": "3.13.3"
  }
 },
 "nbformat": 4,
 "nbformat_minor": 5
}
